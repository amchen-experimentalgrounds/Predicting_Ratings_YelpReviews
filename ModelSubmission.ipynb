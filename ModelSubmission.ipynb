{
 "cells": [
  {
   "cell_type": "markdown",
   "metadata": {},
   "source": [
    "# Libraries"
   ]
  },
  {
   "cell_type": "code",
   "execution_count": 1,
   "metadata": {},
   "outputs": [],
   "source": [
    "import numpy as np\n",
    "import pandas as pd\n",
    "import scipy\n",
    "import pickle"
   ]
  },
  {
   "cell_type": "code",
   "execution_count": 2,
   "metadata": {},
   "outputs": [],
   "source": [
    "from sklearn.model_selection import train_test_split\n",
    "from sklearn.metrics import accuracy_score\n",
    "from sklearn.model_selection import cross_val_score\n",
    "from scipy.sparse import hstack\n",
    "from sklearn.metrics import confusion_matrix\n",
    "from sklearn.model_selection import GridSearchCV"
   ]
  },
  {
   "cell_type": "code",
   "execution_count": 3,
   "metadata": {},
   "outputs": [],
   "source": [
    "from sklearn.feature_extraction.text import CountVectorizer\n",
    "from sklearn.feature_selection import SelectKBest, chi2\n",
    "from sklearn.preprocessing import MaxAbsScaler"
   ]
  },
  {
   "cell_type": "code",
   "execution_count": 4,
   "metadata": {},
   "outputs": [],
   "source": [
    "from sklearn.dummy import DummyClassifier\n",
    "from sklearn.tree import DecisionTreeClassifier\n",
    "from sklearn.naive_bayes import GaussianNB\n",
    "from sklearn.naive_bayes import MultinomialNB\n",
    "from sklearn.linear_model import LogisticRegression\n",
    "from sklearn import svm"
   ]
  },
  {
   "cell_type": "code",
   "execution_count": 5,
   "metadata": {},
   "outputs": [],
   "source": [
    "import matplotlib.pyplot as plt\n",
    "from sklearn.metrics import precision_recall_fscore_support"
   ]
  },
  {
   "cell_type": "markdown",
   "metadata": {},
   "source": [
    "# Import Review Data"
   ]
  },
  {
   "cell_type": "markdown",
   "metadata": {},
   "source": [
    "## Metadata and raw text"
   ]
  },
  {
   "cell_type": "code",
   "execution_count": 6,
   "metadata": {},
   "outputs": [],
   "source": [
    "review_meta_train = pd.read_csv('review_meta_train.csv')\n",
    "review_text_train = pd.read_csv('review_text_train.csv')"
   ]
  },
  {
   "cell_type": "code",
   "execution_count": 7,
   "metadata": {},
   "outputs": [],
   "source": [
    "review_meta_test =  pd.read_csv('review_meta_test.csv')\n",
    "review_text_test = pd.read_csv('review_text_test.csv')\n"
   ]
  },
  {
   "cell_type": "code",
   "execution_count": 8,
   "metadata": {},
   "outputs": [
    {
     "name": "stdout",
     "output_type": "stream",
     "text": [
      "(28068,)\n"
     ]
    }
   ],
   "source": [
    "# Retrieve labels\n",
    "y = review_meta_train['rating'].to_numpy()\n",
    "print(y.shape)"
   ]
  },
  {
   "cell_type": "markdown",
   "metadata": {},
   "source": [
    "## Features derived from review text"
   ]
  },
  {
   "cell_type": "code",
   "execution_count": 9,
   "metadata": {
    "scrolled": false
   },
   "outputs": [
    {
     "name": "stderr",
     "output_type": "stream",
     "text": [
      "C:\\Users\\c33041440\\Anaconda3\\lib\\site-packages\\sklearn\\base.py:306: UserWarning: Trying to unpickle estimator CountVectorizer from version 0.21.3 when using version 0.21.2. This might lead to breaking code or invalid results. Use at your own risk.\n",
      "  UserWarning)\n"
     ]
    }
   ],
   "source": [
    "# Dictionary\n",
    "\n",
    "vocab = pickle.load(open(\"train_countvectorizer.pkl\", \"rb\"))\n",
    "\n",
    "# retrieve dictionary:\n",
    "# vocab.vocabulary_"
   ]
  },
  {
   "cell_type": "code",
   "execution_count": 10,
   "metadata": {},
   "outputs": [],
   "source": [
    "# Doc2Vec Features\n",
    "\n",
    "from scipy import sparse\n",
    "\n",
    "count_train = scipy.sparse.load_npz('review_text_train_vec.npz')\n",
    "count_test = scipy.sparse.load_npz('review_text_test_vec.npz')\n",
    "\n",
    "d2v50_train = pd.read_csv(r\"review_text_train_doc2vec50.csv\", \n",
    "                          index_col = False, delimiter = ',', header=None)\n",
    "d2v50_test = pd.read_csv(r\"review_text_test_doc2vec50.csv\", \n",
    "                         index_col = False, delimiter = ',', header=None)\n",
    "\n",
    "d2v100_train = pd.read_csv(r\"review_text_train_doc2vec100.csv\", \n",
    "                           index_col = False, delimiter = ',', header=None)\n",
    "d2v100_test = pd.read_csv(r\"review_text_test_doc2vec100.csv\", \n",
    "                          index_col = False, delimiter = ',', header=None)\n",
    "\n",
    "d2v200_train = pd.read_csv(r\"review_text_train_doc2vec200.csv\", \n",
    "                           index_col = False, delimiter = ',', header=None)\n",
    "d2v200_test = pd.read_csv(r\"review_text_test_doc2vec200.csv\", \n",
    "                          index_col = False, delimiter = ',', header=None)"
   ]
  },
  {
   "cell_type": "markdown",
   "metadata": {},
   "source": [
    "# Data Preprocessing for Decision Tree, Log Regression, SVM"
   ]
  },
  {
   "cell_type": "markdown",
   "metadata": {},
   "source": [
    "## Function for generating split"
   ]
  },
  {
   "cell_type": "code",
   "execution_count": 11,
   "metadata": {},
   "outputs": [],
   "source": [
    "def create_random_split(d2v200_train, review_meta_train, review_text_train, global_seed = 30):\n",
    "    '''\n",
    "    Returns (X_train, X_test, y_train, y_test)\n",
    "    '''\n",
    "    print('Seed is:', global_seed)\n",
    "\n",
    "    # Split for features which are not n-grams\n",
    "\n",
    "    X = hstack((d2v200_train,\n",
    "                review_meta_train[['vote_cool', 'vote_funny', 'vote_useful']]))\n",
    "\n",
    "    X_train, X_test, y_train, y_test = train_test_split(X, y, \n",
    "                                                      train_size=0.8, random_state = global_seed)\n",
    "    # 30, 40, 50\n",
    "\n",
    "    print('X_train: {} y_train: {} \\nX_test: {} y_test: {}'.format(X_train.shape, y_train.shape,\n",
    "                                                                 X_test.shape, y_test.shape))\n",
    "    \n",
    "    # Split for reviews\n",
    "\n",
    "    review_train, review_test, y_train, y_test = train_test_split(review_text_train, y, \n",
    "                                                      train_size=0.8, random_state = global_seed)\n",
    "    #30, 40, 50\n",
    "\n",
    "    print('review_train: {} y_train: {} \\nreview_test: {} y_test: {}'.format(review_train.shape, y_train.shape,\n",
    "                                                                 review_test.shape, y_test.shape))\n",
    "\n",
    "    # Generate word counts, 2-grams, ra\n",
    "    \n",
    "    countvect = CountVectorizer(lowercase = False)\n",
    "    countvect_2gram = CountVectorizer(lowercase = False, ngram_range=(2,2))\n",
    "    countvect_explicit = CountVectorizer(lowercase = False, ngram_range=(1,1), \n",
    "                                         binary=False,\n",
    "                                         token_pattern='\\s\\d\\sstar')\n",
    "    countvect_exclaim = CountVectorizer(lowercase = False, token_pattern='\\w+\\!')\n",
    "\n",
    "    unigram_train = countvect.fit_transform(review_train['review'])\n",
    "    unigram_test = countvect.transform(review_test['review'])\n",
    "    print('1-gram features:', unigram_train.shape, unigram_test.shape)\n",
    "\n",
    "    bigram_train = countvect_2gram.fit_transform(review_train['review'])\n",
    "    bigram_test = countvect_2gram.transform(review_test['review'])\n",
    "    print('2-gram features intially generated:', bigram_train.shape, bigram_test.shape)\n",
    "\n",
    "    selection = SelectKBest(k=30000)\n",
    "    bigram_train = selection.fit_transform(bigram_train, y_train)\n",
    "    bigram_test = selection.transform(bigram_test)\n",
    "\n",
    "    print('2-gram features:', bigram_train.shape, bigram_test.shape)\n",
    "\n",
    "    exclaim_train = countvect_exclaim.fit_transform(review_train['review'])\n",
    "    exclaim_test = countvect_exclaim.transform(review_test['review'])\n",
    "    print('Exclamation features:', exclaim_train.shape, exclaim_test.shape)\n",
    "\n",
    "    explicit_train = countvect_explicit.fit_transform(review_train['review'])\n",
    "    explicit_test = countvect_explicit.transform(review_test['review'])\n",
    "    print('Explicit Mentions features:', explicit_train.shape, explicit_test.shape)\n",
    "    \n",
    "    # Merge all features\n",
    "    \n",
    "    X_train = hstack((X_train, unigram_train, bigram_train, exclaim_train, explicit_train))\n",
    "    X_test = hstack((X_test, unigram_test, bigram_test, exclaim_test, explicit_test))\n",
    "\n",
    "    print('Final training data:', X_train.shape)\n",
    "    print('Final validation data:', X_test.shape)\n",
    "    \n",
    "    return (X_train, X_test, y_train, y_test)\n"
   ]
  },
  {
   "cell_type": "markdown",
   "metadata": {},
   "source": [
    "## Run function here"
   ]
  },
  {
   "cell_type": "code",
   "execution_count": 12,
   "metadata": {},
   "outputs": [
    {
     "name": "stdout",
     "output_type": "stream",
     "text": [
      "Seed is: 30\n",
      "X_train: (22454, 203) y_train: (22454,) \n",
      "X_test: (5614, 203) y_test: (5614,)\n",
      "review_train: (22454, 1) y_train: (22454,) \n",
      "review_test: (5614, 1) y_test: (5614,)\n",
      "1-gram features: (22454, 49049) (5614, 49049)\n",
      "2-gram features intially generated: (22454, 729322) (5614, 729322)\n",
      "2-gram features: (22454, 30000) (5614, 30000)\n",
      "Exclamation features: (22454, 4930) (5614, 4930)\n",
      "Explicit Mentions features: (22454, 9) (5614, 9)\n",
      "Final training data: (22454, 84191)\n",
      "Final validation data: (5614, 84191)\n"
     ]
    }
   ],
   "source": [
    "global_seed = 30\n",
    "\n",
    "X_train, X_test, y_train, y_test = create_random_split(d2v200_train, \n",
    "                                                       review_meta_train, \n",
    "                                                       review_text_train, global_seed)"
   ]
  },
  {
   "cell_type": "markdown",
   "metadata": {},
   "source": [
    "# 0R (Baseline)"
   ]
  },
  {
   "cell_type": "code",
   "execution_count": 13,
   "metadata": {},
   "outputs": [],
   "source": [
    "baseline_0r = DummyClassifier(strategy='most_frequent')"
   ]
  },
  {
   "cell_type": "code",
   "execution_count": 14,
   "metadata": {
    "scrolled": true
   },
   "outputs": [
    {
     "name": "stdout",
     "output_type": "stream",
     "text": [
      "Validation Accuracy: 0.6920199501246883\n"
     ]
    }
   ],
   "source": [
    "baseline_0r.fit(X_train, y_train)\n",
    "print('Validation Accuracy:', baseline_0r.score(X_test, y_test))"
   ]
  },
  {
   "cell_type": "code",
   "execution_count": 15,
   "metadata": {},
   "outputs": [
    {
     "name": "stdout",
     "output_type": "stream",
     "text": [
      "Ratings in validation: (array([1, 3, 5], dtype=int64), array([ 469, 1260, 3885], dtype=int64))\n",
      "Ratings predicted: (array([5], dtype=int64), array([5614], dtype=int64))\n"
     ]
    }
   ],
   "source": [
    "# Get frequency of ratings in validation set\n",
    "print('Ratings in validation:', np.unique(y_test, return_counts=True))\n",
    "\n",
    "# Get frequency of ratings predicted\n",
    "print('Ratings predicted:', np.unique(baseline_0r.predict(X_test), return_counts=True))"
   ]
  },
  {
   "cell_type": "markdown",
   "metadata": {},
   "source": [
    "# Decision Tree"
   ]
  },
  {
   "cell_type": "markdown",
   "metadata": {},
   "source": [
    "## Model Construction"
   ]
  },
  {
   "cell_type": "code",
   "execution_count": 16,
   "metadata": {},
   "outputs": [],
   "source": [
    "# To store result\n",
    "dt_depth = np.arange(2,17,2)\n",
    "dt_train = []\n",
    "dt_test = []"
   ]
  },
  {
   "cell_type": "code",
   "execution_count": 17,
   "metadata": {
    "scrolled": true
   },
   "outputs": [
    {
     "name": "stdout",
     "output_type": "stream",
     "text": [
      "(22454, 84191) (22454,)\n"
     ]
    }
   ],
   "source": [
    "# Verify that the data is as expected:\n",
    "# ~22,454 training samples and around 80,000 features\n",
    "# (varies since text features are genereated after different splits)\n",
    "print(X_train.shape, y_train.shape)\n",
    "\n",
    "# Build model\n",
    "for dp in dt_depth:\n",
    "    dt = DecisionTreeClassifier(max_depth=dp, criterion='gini', splitter='best',\n",
    "                               random_state= global_seed)\n",
    "    dt.fit(X_train, y_train)\n",
    "    \n",
    "    dt_train.append(dt.score(X_train, y_train))\n",
    "    dt_test.append(dt.score(X_test, y_test))"
   ]
  },
  {
   "cell_type": "markdown",
   "metadata": {},
   "source": [
    "## Validation Results"
   ]
  },
  {
   "cell_type": "code",
   "execution_count": 18,
   "metadata": {},
   "outputs": [
    {
     "name": "stdout",
     "output_type": "stream",
     "text": [
      "max depth = 2, train acc = 0.6988064487396455, validation acc = 0.698610616316352\n",
      "max depth = 4, train acc = 0.7072681927496215, validation acc = 0.7034200213751336\n",
      "max depth = 6, train acc = 0.7352364834773314, validation acc = 0.7182044887780549\n",
      "max depth = 8, train acc = 0.7636501291529348, validation acc = 0.7167794798717492\n",
      "max depth = 10, train acc = 0.8051572102966064, validation acc = 0.7078731742073388\n",
      "max depth = 12, train acc = 0.8532110091743119, validation acc = 0.7035981474884218\n",
      "max depth = 14, train acc = 0.8993052462812862, validation acc = 0.6925543284645529\n",
      "max depth = 16, train acc = 0.9343992161752918, validation acc = 0.6854292839330246\n"
     ]
    }
   ],
   "source": [
    "# All results\n",
    "for a,b,c in zip(dt_depth, dt_train, dt_test):\n",
    "    print('max depth = {}, train acc = {}, validation acc = {}'.format(a,b,c))"
   ]
  },
  {
   "cell_type": "code",
   "execution_count": 19,
   "metadata": {},
   "outputs": [
    {
     "name": "stdout",
     "output_type": "stream",
     "text": [
      "Best result has max depth = 6, train acc = 0.7352364834773314, validation acc = 0.7182044887780549\n"
     ]
    }
   ],
   "source": [
    "# Best result\n",
    "bestdt = np.argmax(dt_test)\n",
    "print('Best result has max depth = {}, train acc = {}, validation acc = {}'.format(dt_depth[bestdt],\n",
    "                                                                                   dt_train[bestdt],\n",
    "                                                                                   dt_test[bestdt]))"
   ]
  },
  {
   "cell_type": "code",
   "execution_count": 20,
   "metadata": {
    "scrolled": true
   },
   "outputs": [
    {
     "data": {
      "text/plain": [
       "Text(0.5, 0.98, 'Classification Accuracy of Decision Tree')"
      ]
     },
     "execution_count": 20,
     "metadata": {},
     "output_type": "execute_result"
    },
    {
     "data": {
      "image/png": "[encoded data removed]",
      "text/plain": [
       "<Figure size 432x288 with 1 Axes>"
      ]
     },
     "metadata": {
      "needs_background": "light"
     },
     "output_type": "display_data"
    }
   ],
   "source": [
    "# Plot accuracy against depth\n",
    "\n",
    "plt.plot(np.arange(1,18), 17*[0.692],\n",
    "        alpha = 0.6, c = 'k', linestyle = 'dashed', label = '0R Baseline')\n",
    "plt.scatter(dt_depth, dt_train)\n",
    "plt.plot(dt_depth, dt_train, label = 'Training')\n",
    "plt.plot(dt_depth, dt_test, label = 'Validation')\n",
    "plt.scatter(dt_depth, dt_test)\n",
    "plt.xlim(1,17)\n",
    "plt.xticks(np.arange(2,17,2))\n",
    "plt.ylim(0.65,0.96)\n",
    "plt.xlabel('Max Tree Depth')\n",
    "plt.ylabel ('Proportion Correctly Classified')\n",
    "plt.legend(loc='upper left')\n",
    "plt.suptitle('Classification Accuracy of Decision Tree')\n",
    "#plt.savefig('DTAcc30.png', dpi=100)"
   ]
  },
  {
   "cell_type": "code",
   "execution_count": 21,
   "metadata": {},
   "outputs": [
    {
     "name": "stdout",
     "output_type": "stream",
     "text": [
      "Finding confusion matrix of best tree with depth 6\n"
     ]
    },
    {
     "data": {
      "text/plain": [
       "array([[  41,  181,  247],\n",
       "       [  15,  441,  804],\n",
       "       [  15,  320, 3550]], dtype=int64)"
      ]
     },
     "execution_count": 21,
     "metadata": {},
     "output_type": "execute_result"
    }
   ],
   "source": [
    "print('Finding confusion matrix of best tree with depth', dt_depth[bestdt])\n",
    "dt = DecisionTreeClassifier(max_depth=dt_depth[bestdt], criterion='gini', splitter='best', random_state = global_seed)\n",
    "dt.fit(X_train, y_train)\n",
    "confusion_matrix(y_test, dt.predict(X_test))"
   ]
  },
  {
   "cell_type": "code",
   "execution_count": 22,
   "metadata": {
    "scrolled": true
   },
   "outputs": [
    {
     "name": "stdout",
     "output_type": "stream",
     "text": [
      "Ratings in validation: (array([1, 3, 5], dtype=int64), array([ 469, 1260, 3885], dtype=int64))\n",
      "Ratings predicted: (array([1, 3, 5], dtype=int64), array([  71,  942, 4601], dtype=int64))\n"
     ]
    }
   ],
   "source": [
    "# Get frequency of ratings in validation set\n",
    "print('Ratings in validation:', np.unique(y_test, return_counts=True))\n",
    "\n",
    "# Get frequency of ratings predicted\n",
    "print('Ratings predicted:', np.unique(dt.predict(X_test), return_counts=True))"
   ]
  },
  {
   "cell_type": "code",
   "execution_count": 23,
   "metadata": {},
   "outputs": [
    {
     "name": "stdout",
     "output_type": "stream",
     "text": [
      "Getting detailed performance metrics...\n"
     ]
    },
    {
     "data": {
      "text/plain": [
       "(array([0.57746479, 0.46815287, 0.7715714 ]),\n",
       " array([0.08742004, 0.35      , 0.91377091]),\n",
       " array([0.15185185, 0.40054496, 0.83667217]),\n",
       " array([ 469, 1260, 3885], dtype=int64))"
      ]
     },
     "execution_count": 23,
     "metadata": {},
     "output_type": "execute_result"
    }
   ],
   "source": [
    "print('Getting detailed performance metrics...')\n",
    "\n",
    "precision_recall_fscore_support(y_test, dt.predict(X_test))"
   ]
  },
  {
   "cell_type": "markdown",
   "metadata": {},
   "source": [
    "## Model Variance"
   ]
  },
  {
   "cell_type": "code",
   "execution_count": 24,
   "metadata": {},
   "outputs": [],
   "source": [
    "depth = dt_depth[bestdt] # 6\n",
    "\n",
    "# To store result\n",
    "dt_train = []\n",
    "dt_test = []"
   ]
  },
  {
   "cell_type": "code",
   "execution_count": 25,
   "metadata": {
    "scrolled": true
   },
   "outputs": [
    {
     "name": "stdout",
     "output_type": "stream",
     "text": [
      "(22454, 84191) (22454,)\n",
      "Seed is: 40\n",
      "X_train: (22454, 203) y_train: (22454,) \n",
      "X_test: (5614, 203) y_test: (5614,)\n",
      "review_train: (22454, 1) y_train: (22454,) \n",
      "review_test: (5614, 1) y_test: (5614,)\n",
      "1-gram features: (22454, 49281) (5614, 49281)\n",
      "2-gram features intially generated: (22454, 730743) (5614, 730743)\n",
      "2-gram features: (22454, 30000) (5614, 30000)\n",
      "Exclamation features: (22454, 4965) (5614, 4965)\n",
      "Explicit Mentions features: (22454, 9) (5614, 9)\n",
      "Final training data: (22454, 84458)\n",
      "Final validation data: (5614, 84458)\n",
      "Seed is: 41\n",
      "X_train: (22454, 203) y_train: (22454,) \n",
      "X_test: (5614, 203) y_test: (5614,)\n",
      "review_train: (22454, 1) y_train: (22454,) \n",
      "review_test: (5614, 1) y_test: (5614,)\n",
      "1-gram features: (22454, 48913) (5614, 48913)\n",
      "2-gram features intially generated: (22454, 724899) (5614, 724899)\n",
      "2-gram features: (22454, 30000) (5614, 30000)\n",
      "Exclamation features: (22454, 4874) (5614, 4874)\n",
      "Explicit Mentions features: (22454, 9) (5614, 9)\n",
      "Final training data: (22454, 83999)\n",
      "Final validation data: (5614, 83999)\n",
      "Seed is: 42\n",
      "X_train: (22454, 203) y_train: (22454,) \n",
      "X_test: (5614, 203) y_test: (5614,)\n",
      "review_train: (22454, 1) y_train: (22454,) \n",
      "review_test: (5614, 1) y_test: (5614,)\n",
      "1-gram features: (22454, 49185) (5614, 49185)\n",
      "2-gram features intially generated: (22454, 726390) (5614, 726390)\n",
      "2-gram features: (22454, 30000) (5614, 30000)\n",
      "Exclamation features: (22454, 4946) (5614, 4946)\n",
      "Explicit Mentions features: (22454, 9) (5614, 9)\n",
      "Final training data: (22454, 84343)\n",
      "Final validation data: (5614, 84343)\n",
      "Seed is: 43\n",
      "X_train: (22454, 203) y_train: (22454,) \n",
      "X_test: (5614, 203) y_test: (5614,)\n",
      "review_train: (22454, 1) y_train: (22454,) \n",
      "review_test: (5614, 1) y_test: (5614,)\n",
      "1-gram features: (22454, 48908) (5614, 48908)\n",
      "2-gram features intially generated: (22454, 727171) (5614, 727171)\n",
      "2-gram features: (22454, 30000) (5614, 30000)\n",
      "Exclamation features: (22454, 4935) (5614, 4935)\n",
      "Explicit Mentions features: (22454, 9) (5614, 9)\n",
      "Final training data: (22454, 84055)\n",
      "Final validation data: (5614, 84055)\n",
      "Seed is: 44\n",
      "X_train: (22454, 203) y_train: (22454,) \n",
      "X_test: (5614, 203) y_test: (5614,)\n",
      "review_train: (22454, 1) y_train: (22454,) \n",
      "review_test: (5614, 1) y_test: (5614,)\n",
      "1-gram features: (22454, 49145) (5614, 49145)\n",
      "2-gram features intially generated: (22454, 729321) (5614, 729321)\n",
      "2-gram features: (22454, 30000) (5614, 30000)\n",
      "Exclamation features: (22454, 4960) (5614, 4960)\n",
      "Explicit Mentions features: (22454, 9) (5614, 9)\n",
      "Final training data: (22454, 84317)\n",
      "Final validation data: (5614, 84317)\n"
     ]
    }
   ],
   "source": [
    "# Verify that the data is as expected:\n",
    "# ~22,454 training samples and around 80,000 features\n",
    "# (varies since text features are genereated after different splits)\n",
    "print(X_train.shape, y_train.shape)\n",
    "\n",
    "# Build model\n",
    "\n",
    "for seed in np.arange(40,45):\n",
    "    X_train, X_test, y_train, y_test = create_random_split(d2v200_train, \n",
    "                                                       review_meta_train, \n",
    "                                                       review_text_train, seed)\n",
    "    \n",
    "    dt = DecisionTreeClassifier(max_depth=depth, criterion='gini', splitter='best',\n",
    "                               random_state= seed)\n",
    "    dt.fit(X_train, y_train)\n",
    "    \n",
    "    dt_train.append(dt.score(X_train, y_train))\n",
    "    dt_test.append(dt.score(X_test, y_test))"
   ]
  },
  {
   "cell_type": "code",
   "execution_count": 26,
   "metadata": {
    "scrolled": false
   },
   "outputs": [
    {
     "name": "stdout",
     "output_type": "stream",
     "text": [
      "Validation accuracy of 5 more models: [0.7253295333095832, 0.7075169219807623, 0.7121482009262557, 0.7116138225863912, 0.7203420021375133]\n",
      "Mean accuracy: 0.7153900961881011\n",
      "Std accuracy: 0.006481832798315164\n"
     ]
    }
   ],
   "source": [
    "print('Validation accuracy of 5 more models:', dt_test)\n",
    "print('Mean accuracy:', np.mean(dt_test))\n",
    "print('Std accuracy:', np.std(dt_test))"
   ]
  },
  {
   "cell_type": "markdown",
   "metadata": {},
   "source": [
    "# Logistic Regression"
   ]
  },
  {
   "cell_type": "markdown",
   "metadata": {},
   "source": [
    "## Model Construction"
   ]
  },
  {
   "cell_type": "code",
   "execution_count": 27,
   "metadata": {
    "scrolled": true
   },
   "outputs": [
    {
     "name": "stdout",
     "output_type": "stream",
     "text": [
      "Seed is: 30\n",
      "X_train: (22454, 203) y_train: (22454,) \n",
      "X_test: (5614, 203) y_test: (5614,)\n",
      "review_train: (22454, 1) y_train: (22454,) \n",
      "review_test: (5614, 1) y_test: (5614,)\n",
      "1-gram features: (22454, 49049) (5614, 49049)\n",
      "2-gram features intially generated: (22454, 729322) (5614, 729322)\n",
      "2-gram features: (22454, 30000) (5614, 30000)\n",
      "Exclamation features: (22454, 4930) (5614, 4930)\n",
      "Explicit Mentions features: (22454, 9) (5614, 9)\n",
      "Final training data: (22454, 84191)\n",
      "Final validation data: (5614, 84191)\n"
     ]
    }
   ],
   "source": [
    "X_train, X_test, y_train, y_test = create_random_split(d2v200_train, \n",
    "                                                       review_meta_train, \n",
    "                                                       review_text_train, global_seed=30)"
   ]
  },
  {
   "cell_type": "code",
   "execution_count": 28,
   "metadata": {},
   "outputs": [],
   "source": [
    "lreg_reg = [0.001, 0.0031, 0.01, 0.031, 0.1, 0.31, 1]\n",
    "lreg_train = []\n",
    "lreg_test = []"
   ]
  },
  {
   "cell_type": "code",
   "execution_count": 29,
   "metadata": {
    "scrolled": false
   },
   "outputs": [
    {
     "name": "stderr",
     "output_type": "stream",
     "text": [
      "C:\\Users\\c33041440\\Anaconda3\\lib\\site-packages\\sklearn\\linear_model\\logistic.py:432: FutureWarning: Default solver will be changed to 'lbfgs' in 0.22. Specify a solver to silence this warning.\n",
      "  FutureWarning)\n"
     ]
    }
   ],
   "source": [
    "for c_ in lreg_reg:\n",
    "    lreg = LogisticRegression(penalty = 'l2', C = c_, random_state= global_seed,\n",
    "                             multi_class='ovr')\n",
    "    lreg.fit(X_train, y_train)\n",
    "    \n",
    "    lreg_train.append(lreg.score(X_train, y_train))\n",
    "    lreg_test.append(lreg.score(X_test, y_test))"
   ]
  },
  {
   "cell_type": "markdown",
   "metadata": {},
   "source": [
    "## Validation Results"
   ]
  },
  {
   "cell_type": "code",
   "execution_count": 30,
   "metadata": {},
   "outputs": [
    {
     "name": "stdout",
     "output_type": "stream",
     "text": [
      "c = 0.001, train acc = 0.8500489890442683, test acc = 0.8377271107944425\n",
      "c = 0.0031, train acc = 0.8766366794335085, test acc = 0.8571428571428571\n",
      "c = 0.01, train acc = 0.9071434933642113, test acc = 0.871571072319202\n",
      "c = 0.031, train acc = 0.9405896499510109, test acc = 0.8758460990381189\n",
      "c = 0.1, train acc = 0.9702502894807161, test acc = 0.8785179907374421\n",
      "c = 0.31, train acc = 0.9878863454172976, test acc = 0.8786961168507303\n",
      "c = 1, train acc = 0.9963035539324842, test acc = 0.8756679729248308\n"
     ]
    }
   ],
   "source": [
    "# All results\n",
    "for a,b,c in zip(lreg_reg, lreg_train, lreg_test):\n",
    "    print('c = {}, train acc = {}, test acc = {}'.format(a,b,c))"
   ]
  },
  {
   "cell_type": "code",
   "execution_count": 31,
   "metadata": {},
   "outputs": [
    {
     "name": "stdout",
     "output_type": "stream",
     "text": [
      "Best result has c = 0.31, train acc = 0.9878863454172976, validation acc = 0.8786961168507303\n"
     ]
    }
   ],
   "source": [
    "# Best result\n",
    "bestlreg = np.argmax(lreg_test)\n",
    "print('Best result has c = {}, train acc = {}, validation acc = {}'.format(lreg_reg[bestlreg],\n",
    "                                                                                   lreg_train[bestlreg],\n",
    "                                                                                   lreg_test[bestlreg]))"
   ]
  },
  {
   "cell_type": "code",
   "execution_count": 32,
   "metadata": {
    "scrolled": true
   },
   "outputs": [
    {
     "data": {
      "text/plain": [
       "Text(0.5, 0.98, 'Classification Accuracy of Logistic Regression')"
      ]
     },
     "execution_count": 32,
     "metadata": {},
     "output_type": "execute_result"
    },
    {
     "data": {
      "image/png": "[encoded data removed]",
      "text/plain": [
       "<Figure size 432x288 with 1 Axes>"
      ]
     },
     "metadata": {
      "needs_background": "light"
     },
     "output_type": "display_data"
    }
   ],
   "source": [
    "plt.scatter(lreg_reg, lreg_train)\n",
    "plt.plot(lreg_reg, lreg_train, label = 'Training')\n",
    "plt.plot(lreg_reg, lreg_test, label = 'Validation')\n",
    "plt.scatter(lreg_reg, lreg_test)\n",
    "plt.xscale('log')\n",
    "plt.xlim(0.0008, 1.3)\n",
    "plt.ylim(0.80,1)\n",
    "plt.xlabel('Inverse Regularization Strength (C)')\n",
    "plt.ylabel ('Proportion Correctly Classified')\n",
    "plt.legend()\n",
    "plt.suptitle('Classification Accuracy of Logistic Regression')\n",
    "#plt.savefig('LREGAcc30.png', dpi=100)"
   ]
  },
  {
   "cell_type": "code",
   "execution_count": 33,
   "metadata": {
    "scrolled": true
   },
   "outputs": [
    {
     "name": "stdout",
     "output_type": "stream",
     "text": [
      "Finding confusion matrix of logistic regression model with best regularisation parameter 0.31\n"
     ]
    },
    {
     "name": "stderr",
     "output_type": "stream",
     "text": [
      "C:\\Users\\c33041440\\Anaconda3\\lib\\site-packages\\sklearn\\linear_model\\logistic.py:469: FutureWarning: Default multi_class will be changed to 'auto' in 0.22. Specify the multi_class option to silence this warning.\n",
      "  \"this warning.\", FutureWarning)\n"
     ]
    },
    {
     "data": {
      "text/plain": [
       "array([[ 308,   99,   62],\n",
       "       [  44,  902,  314],\n",
       "       [  12,  150, 3723]], dtype=int64)"
      ]
     },
     "execution_count": 33,
     "metadata": {},
     "output_type": "execute_result"
    }
   ],
   "source": [
    "print('Finding confusion matrix of logistic regression model with best regularisation parameter', lreg_reg[bestlreg])\n",
    "\n",
    "lreg = LogisticRegression(penalty = 'l2', C = lreg_reg[bestlreg], random_state= global_seed)\n",
    "lreg.fit(X_train, y_train)\n",
    "    \n",
    "confusion_matrix(y_test, lreg.predict(X_test))"
   ]
  },
  {
   "cell_type": "code",
   "execution_count": 34,
   "metadata": {
    "scrolled": false
   },
   "outputs": [
    {
     "name": "stdout",
     "output_type": "stream",
     "text": [
      "Ratings in validation: (array([1, 3, 5], dtype=int64), array([ 469, 1260, 3885], dtype=int64))\n",
      "Ratings predicted: (array([1, 3, 5], dtype=int64), array([ 364, 1151, 4099], dtype=int64))\n"
     ]
    }
   ],
   "source": [
    "# Get frequency of ratings in validation set\n",
    "print('Ratings in validation:', np.unique(y_test, return_counts=True))\n",
    "\n",
    "# Get frequency of ratings predicted\n",
    "print('Ratings predicted:', np.unique(lreg.predict(X_test), return_counts=True))"
   ]
  },
  {
   "cell_type": "code",
   "execution_count": 35,
   "metadata": {
    "scrolled": true
   },
   "outputs": [
    {
     "name": "stdout",
     "output_type": "stream",
     "text": [
      "Getting detailed performance metrics...\n"
     ]
    },
    {
     "data": {
      "text/plain": [
       "(array([0.84615385, 0.78366638, 0.90827031]),\n",
       " array([0.65671642, 0.71587302, 0.95830116]),\n",
       " array([0.7394958 , 0.74823725, 0.93261523]),\n",
       " array([ 469, 1260, 3885], dtype=int64))"
      ]
     },
     "execution_count": 35,
     "metadata": {},
     "output_type": "execute_result"
    }
   ],
   "source": [
    "print('Getting detailed performance metrics...')\n",
    "\n",
    "precision_recall_fscore_support(y_test, lreg.predict(X_test))"
   ]
  },
  {
   "cell_type": "markdown",
   "metadata": {},
   "source": [
    "## Model Variance"
   ]
  },
  {
   "cell_type": "code",
   "execution_count": 36,
   "metadata": {},
   "outputs": [
    {
     "name": "stdout",
     "output_type": "stream",
     "text": [
      "0.31\n"
     ]
    }
   ],
   "source": [
    "print(lreg_reg[bestlreg]) #0.31\n",
    "lreg_train = []\n",
    "lreg_test = []"
   ]
  },
  {
   "cell_type": "code",
   "execution_count": 37,
   "metadata": {
    "scrolled": true
   },
   "outputs": [
    {
     "name": "stdout",
     "output_type": "stream",
     "text": [
      "(22454, 84191) (22454,)\n",
      "Seed is: 40\n",
      "X_train: (22454, 203) y_train: (22454,) \n",
      "X_test: (5614, 203) y_test: (5614,)\n",
      "review_train: (22454, 1) y_train: (22454,) \n",
      "review_test: (5614, 1) y_test: (5614,)\n",
      "1-gram features: (22454, 49281) (5614, 49281)\n",
      "2-gram features intially generated: (22454, 730743) (5614, 730743)\n",
      "2-gram features: (22454, 30000) (5614, 30000)\n",
      "Exclamation features: (22454, 4965) (5614, 4965)\n",
      "Explicit Mentions features: (22454, 9) (5614, 9)\n",
      "Final training data: (22454, 84458)\n",
      "Final validation data: (5614, 84458)\n"
     ]
    },
    {
     "name": "stderr",
     "output_type": "stream",
     "text": [
      "C:\\Users\\c33041440\\Anaconda3\\lib\\site-packages\\sklearn\\linear_model\\logistic.py:432: FutureWarning: Default solver will be changed to 'lbfgs' in 0.22. Specify a solver to silence this warning.\n",
      "  FutureWarning)\n",
      "C:\\Users\\c33041440\\Anaconda3\\lib\\site-packages\\sklearn\\linear_model\\logistic.py:469: FutureWarning: Default multi_class will be changed to 'auto' in 0.22. Specify the multi_class option to silence this warning.\n",
      "  \"this warning.\", FutureWarning)\n"
     ]
    },
    {
     "name": "stdout",
     "output_type": "stream",
     "text": [
      "Seed is: 41\n",
      "X_train: (22454, 203) y_train: (22454,) \n",
      "X_test: (5614, 203) y_test: (5614,)\n",
      "review_train: (22454, 1) y_train: (22454,) \n",
      "review_test: (5614, 1) y_test: (5614,)\n",
      "1-gram features: (22454, 48913) (5614, 48913)\n",
      "2-gram features intially generated: (22454, 724899) (5614, 724899)\n",
      "2-gram features: (22454, 30000) (5614, 30000)\n",
      "Exclamation features: (22454, 4874) (5614, 4874)\n",
      "Explicit Mentions features: (22454, 9) (5614, 9)\n",
      "Final training data: (22454, 83999)\n",
      "Final validation data: (5614, 83999)\n"
     ]
    },
    {
     "name": "stderr",
     "output_type": "stream",
     "text": [
      "C:\\Users\\c33041440\\Anaconda3\\lib\\site-packages\\sklearn\\linear_model\\logistic.py:432: FutureWarning: Default solver will be changed to 'lbfgs' in 0.22. Specify a solver to silence this warning.\n",
      "  FutureWarning)\n",
      "C:\\Users\\c33041440\\Anaconda3\\lib\\site-packages\\sklearn\\linear_model\\logistic.py:469: FutureWarning: Default multi_class will be changed to 'auto' in 0.22. Specify the multi_class option to silence this warning.\n",
      "  \"this warning.\", FutureWarning)\n"
     ]
    },
    {
     "name": "stdout",
     "output_type": "stream",
     "text": [
      "Seed is: 42\n",
      "X_train: (22454, 203) y_train: (22454,) \n",
      "X_test: (5614, 203) y_test: (5614,)\n",
      "review_train: (22454, 1) y_train: (22454,) \n",
      "review_test: (5614, 1) y_test: (5614,)\n",
      "1-gram features: (22454, 49185) (5614, 49185)\n",
      "2-gram features intially generated: (22454, 726390) (5614, 726390)\n",
      "2-gram features: (22454, 30000) (5614, 30000)\n",
      "Exclamation features: (22454, 4946) (5614, 4946)\n",
      "Explicit Mentions features: (22454, 9) (5614, 9)\n",
      "Final training data: (22454, 84343)\n",
      "Final validation data: (5614, 84343)\n"
     ]
    },
    {
     "name": "stderr",
     "output_type": "stream",
     "text": [
      "C:\\Users\\c33041440\\Anaconda3\\lib\\site-packages\\sklearn\\linear_model\\logistic.py:432: FutureWarning: Default solver will be changed to 'lbfgs' in 0.22. Specify a solver to silence this warning.\n",
      "  FutureWarning)\n",
      "C:\\Users\\c33041440\\Anaconda3\\lib\\site-packages\\sklearn\\linear_model\\logistic.py:469: FutureWarning: Default multi_class will be changed to 'auto' in 0.22. Specify the multi_class option to silence this warning.\n",
      "  \"this warning.\", FutureWarning)\n"
     ]
    },
    {
     "name": "stdout",
     "output_type": "stream",
     "text": [
      "Seed is: 43\n",
      "X_train: (22454, 203) y_train: (22454,) \n",
      "X_test: (5614, 203) y_test: (5614,)\n",
      "review_train: (22454, 1) y_train: (22454,) \n",
      "review_test: (5614, 1) y_test: (5614,)\n",
      "1-gram features: (22454, 48908) (5614, 48908)\n",
      "2-gram features intially generated: (22454, 727171) (5614, 727171)\n",
      "2-gram features: (22454, 30000) (5614, 30000)\n",
      "Exclamation features: (22454, 4935) (5614, 4935)\n",
      "Explicit Mentions features: (22454, 9) (5614, 9)\n",
      "Final training data: (22454, 84055)\n",
      "Final validation data: (5614, 84055)\n"
     ]
    },
    {
     "name": "stderr",
     "output_type": "stream",
     "text": [
      "C:\\Users\\c33041440\\Anaconda3\\lib\\site-packages\\sklearn\\linear_model\\logistic.py:432: FutureWarning: Default solver will be changed to 'lbfgs' in 0.22. Specify a solver to silence this warning.\n",
      "  FutureWarning)\n",
      "C:\\Users\\c33041440\\Anaconda3\\lib\\site-packages\\sklearn\\linear_model\\logistic.py:469: FutureWarning: Default multi_class will be changed to 'auto' in 0.22. Specify the multi_class option to silence this warning.\n",
      "  \"this warning.\", FutureWarning)\n"
     ]
    },
    {
     "name": "stdout",
     "output_type": "stream",
     "text": [
      "Seed is: 44\n",
      "X_train: (22454, 203) y_train: (22454,) \n",
      "X_test: (5614, 203) y_test: (5614,)\n",
      "review_train: (22454, 1) y_train: (22454,) \n",
      "review_test: (5614, 1) y_test: (5614,)\n",
      "1-gram features: (22454, 49145) (5614, 49145)\n",
      "2-gram features intially generated: (22454, 729321) (5614, 729321)\n",
      "2-gram features: (22454, 30000) (5614, 30000)\n",
      "Exclamation features: (22454, 4960) (5614, 4960)\n",
      "Explicit Mentions features: (22454, 9) (5614, 9)\n",
      "Final training data: (22454, 84317)\n",
      "Final validation data: (5614, 84317)\n"
     ]
    },
    {
     "name": "stderr",
     "output_type": "stream",
     "text": [
      "C:\\Users\\c33041440\\Anaconda3\\lib\\site-packages\\sklearn\\linear_model\\logistic.py:432: FutureWarning: Default solver will be changed to 'lbfgs' in 0.22. Specify a solver to silence this warning.\n",
      "  FutureWarning)\n",
      "C:\\Users\\c33041440\\Anaconda3\\lib\\site-packages\\sklearn\\linear_model\\logistic.py:469: FutureWarning: Default multi_class will be changed to 'auto' in 0.22. Specify the multi_class option to silence this warning.\n",
      "  \"this warning.\", FutureWarning)\n"
     ]
    }
   ],
   "source": [
    "# Verify that the data is as expected:\n",
    "# ~22,454 training samples and around 80,000 features\n",
    "# (varies since text features are genereated after different splits)\n",
    "print(X_train.shape, y_train.shape)\n",
    "\n",
    "# Build model\n",
    "\n",
    "for seed in np.arange(40,45):\n",
    "    X_train, X_test, y_train, y_test = create_random_split(d2v200_train, \n",
    "                                                       review_meta_train, \n",
    "                                                       review_text_train, seed)\n",
    "    \n",
    "    lreg = LogisticRegression(penalty = 'l2', C = 0.31, \n",
    "                              random_state= seed)\n",
    "    lreg.fit(X_train, y_train)\n",
    "    \n",
    "    lreg_train.append(lreg.score(X_train, y_train))\n",
    "    lreg_test.append(lreg.score(X_test, y_test))"
   ]
  },
  {
   "cell_type": "code",
   "execution_count": 38,
   "metadata": {
    "scrolled": true
   },
   "outputs": [
    {
     "name": "stdout",
     "output_type": "stream",
     "text": [
      "Validation accuracy of 5 more models: [0.8829711435696473, 0.8797648735304595, 0.8770929818311365, 0.8794086213038832, 0.8795867474171714]\n",
      "Mean accuracy: 0.8797648735304596\n",
      "Std accuracy: 0.0018749835934365156\n"
     ]
    }
   ],
   "source": [
    "print('Validation accuracy of 5 more models:', lreg_test)\n",
    "print('Mean accuracy:', np.mean(lreg_test))\n",
    "print('Std accuracy:', np.std(lreg_test))"
   ]
  },
  {
   "cell_type": "markdown",
   "metadata": {},
   "source": [
    "# Support Vector Classifier"
   ]
  },
  {
   "cell_type": "markdown",
   "metadata": {},
   "source": [
    "## Model Construction"
   ]
  },
  {
   "cell_type": "code",
   "execution_count": 39,
   "metadata": {
    "scrolled": true
   },
   "outputs": [
    {
     "name": "stdout",
     "output_type": "stream",
     "text": [
      "Seed is: 30\n",
      "X_train: (22454, 203) y_train: (22454,) \n",
      "X_test: (5614, 203) y_test: (5614,)\n",
      "review_train: (22454, 1) y_train: (22454,) \n",
      "review_test: (5614, 1) y_test: (5614,)\n",
      "1-gram features: (22454, 49049) (5614, 49049)\n",
      "2-gram features intially generated: (22454, 729322) (5614, 729322)\n",
      "2-gram features: (22454, 30000) (5614, 30000)\n",
      "Exclamation features: (22454, 4930) (5614, 4930)\n",
      "Explicit Mentions features: (22454, 9) (5614, 9)\n",
      "Final training data: (22454, 84191)\n",
      "Final validation data: (5614, 84191)\n"
     ]
    }
   ],
   "source": [
    "X_train, X_test, y_train, y_test = create_random_split(d2v200_train, \n",
    "                                                       review_meta_train, \n",
    "                                                       review_text_train, global_seed=30)"
   ]
  },
  {
   "cell_type": "code",
   "execution_count": 40,
   "metadata": {},
   "outputs": [],
   "source": [
    "svm_reg = [0.001,0.0031,0.01,0.031,0.1,0.31,1]\n",
    "svm_train = []\n",
    "svm_test = []"
   ]
  },
  {
   "cell_type": "code",
   "execution_count": 41,
   "metadata": {
    "scrolled": true
   },
   "outputs": [
    {
     "name": "stdout",
     "output_type": "stream",
     "text": [
      "Seed: 30\n"
     ]
    },
    {
     "name": "stderr",
     "output_type": "stream",
     "text": [
      "C:\\Users\\c33041440\\Anaconda3\\lib\\site-packages\\sklearn\\svm\\base.py:929: ConvergenceWarning: Liblinear failed to converge, increase the number of iterations.\n",
      "  \"the number of iterations.\", ConvergenceWarning)\n"
     ]
    }
   ],
   "source": [
    "print(\"Seed:\", global_seed)\n",
    "\n",
    "for c_ in svm_reg:\n",
    "    svmlin = svm.LinearSVC(C = c_, max_iter=3000, random_state= global_seed)\n",
    "    svmlin.fit(X_train, y_train)\n",
    "    svm_train.append(svmlin.score(X_train, y_train))\n",
    "    svm_test.append(svmlin.score(X_test, y_test))"
   ]
  },
  {
   "cell_type": "markdown",
   "metadata": {},
   "source": [
    "## Validation Results"
   ]
  },
  {
   "cell_type": "code",
   "execution_count": 42,
   "metadata": {
    "scrolled": false
   },
   "outputs": [
    {
     "name": "stdout",
     "output_type": "stream",
     "text": [
      "c = 0.001, train acc = 0.9111516878952525, test acc = 0.8705023156394728\n",
      "c = 0.0031, train acc = 0.9452658769038924, test acc = 0.8754898468115426\n",
      "c = 0.01, train acc = 0.9742139485169681, test acc = 0.8769148557178482\n",
      "c = 0.031, train acc = 0.9898013716932396, test acc = 0.8774492340577129\n",
      "c = 0.1, train acc = 0.9971051928386925, test acc = 0.871571072319202\n",
      "c = 0.31, train acc = 0.9993765030729491, test acc = 0.8639116494478091\n",
      "c = 1, train acc = 0.9999109290104213, test acc = 0.8592803705023156\n"
     ]
    }
   ],
   "source": [
    "# All results\n",
    "for a,b,c in zip(svm_reg, svm_train, svm_test):\n",
    "    print('c = {}, train acc = {}, test acc = {}'.format(a,b,c))"
   ]
  },
  {
   "cell_type": "code",
   "execution_count": 43,
   "metadata": {},
   "outputs": [
    {
     "name": "stdout",
     "output_type": "stream",
     "text": [
      "Best result has c = 0.031, train acc = 0.9898013716932396, validation acc = 0.8774492340577129\n"
     ]
    }
   ],
   "source": [
    "# Best result\n",
    "bestsvm = np.argmax(svm_test)\n",
    "print('Best result has c = {}, train acc = {}, validation acc = {}'.format(svm_reg[bestsvm],\n",
    "                                                                                   svm_train[bestsvm],\n",
    "                                                                                   svm_test[bestsvm]))"
   ]
  },
  {
   "cell_type": "code",
   "execution_count": 44,
   "metadata": {
    "scrolled": true
   },
   "outputs": [
    {
     "data": {
      "text/plain": [
       "Text(0.5, 0.98, 'Classification Accuracy of Support Vector Classifier')"
      ]
     },
     "execution_count": 44,
     "metadata": {},
     "output_type": "execute_result"
    },
    {
     "data": {
      "image/png": "[encoded data removed]",
      "text/plain": [
       "<Figure size 432x288 with 1 Axes>"
      ]
     },
     "metadata": {
      "needs_background": "light"
     },
     "output_type": "display_data"
    }
   ],
   "source": [
    "plt.scatter(svm_reg, svm_train)\n",
    "plt.plot(svm_reg, svm_train, label = 'Training')\n",
    "plt.plot(svm_reg, svm_test, label = 'Validation')\n",
    "plt.scatter(svm_reg, svm_test)\n",
    "plt.xscale('log')\n",
    "plt.ylim(0.84,1.01)\n",
    "plt.xlim(0.0008,1.3)\n",
    "plt.xlabel('Inverse Regularization Strength (C)')\n",
    "plt.ylabel ('Proportion Correctly Classified')\n",
    "plt.legend()\n",
    "plt.suptitle('Classification Accuracy of Support Vector Classifier')\n",
    "#plt.savefig('SVMAcc30.png', dpi=100)"
   ]
  },
  {
   "cell_type": "code",
   "execution_count": 45,
   "metadata": {},
   "outputs": [
    {
     "name": "stdout",
     "output_type": "stream",
     "text": [
      "Finding confusion matrix of SVM with best regularisation parameter 0.031\n"
     ]
    },
    {
     "data": {
      "text/plain": [
       "array([[ 311,   96,   62],\n",
       "       [  52,  905,  303],\n",
       "       [  14,  161, 3710]], dtype=int64)"
      ]
     },
     "execution_count": 45,
     "metadata": {},
     "output_type": "execute_result"
    }
   ],
   "source": [
    "print('Finding confusion matrix of SVM with best regularisation parameter', svm_reg[bestsvm])\n",
    "\n",
    "svmlin = svm.LinearSVC(C = svm_reg[bestsvm], max_iter=2000, random_state= global_seed)\n",
    "svmlin.fit(X_train, y_train)\n",
    "    \n",
    "confusion_matrix(y_test, svmlin.predict(X_test))"
   ]
  },
  {
   "cell_type": "code",
   "execution_count": 46,
   "metadata": {},
   "outputs": [
    {
     "name": "stdout",
     "output_type": "stream",
     "text": [
      "Ratings in validation: (array([1, 3, 5], dtype=int64), array([ 469, 1260, 3885], dtype=int64))\n",
      "Ratings predicted: (array([1, 3, 5], dtype=int64), array([ 377, 1162, 4075], dtype=int64))\n"
     ]
    }
   ],
   "source": [
    "# Get frequency of ratings in validation set\n",
    "print('Ratings in validation:', np.unique(y_test, return_counts=True))\n",
    "\n",
    "# Get frequency of ratings predicted\n",
    "print('Ratings predicted:', np.unique(svmlin.predict(X_test), return_counts=True))"
   ]
  },
  {
   "cell_type": "code",
   "execution_count": 47,
   "metadata": {},
   "outputs": [
    {
     "name": "stdout",
     "output_type": "stream",
     "text": [
      "Getting detailed performance metrics...\n"
     ]
    },
    {
     "data": {
      "text/plain": [
       "(array([0.82493369, 0.7788296 , 0.91042945]),\n",
       " array([0.66311301, 0.71825397, 0.95495495]),\n",
       " array([0.73522459, 0.74731627, 0.9321608 ]),\n",
       " array([ 469, 1260, 3885], dtype=int64))"
      ]
     },
     "execution_count": 47,
     "metadata": {},
     "output_type": "execute_result"
    }
   ],
   "source": [
    "# Detailed performance metrics\n",
    "\n",
    "print('Getting detailed performance metrics...')\n",
    "precision_recall_fscore_support(y_test, svmlin.predict(X_test))"
   ]
  },
  {
   "cell_type": "markdown",
   "metadata": {},
   "source": [
    "## Model Variance"
   ]
  },
  {
   "cell_type": "code",
   "execution_count": 48,
   "metadata": {},
   "outputs": [
    {
     "name": "stdout",
     "output_type": "stream",
     "text": [
      "0.031\n"
     ]
    }
   ],
   "source": [
    "print(svm_reg[bestsvm]) #0.031\n",
    "svm_train = []\n",
    "svm_test = []"
   ]
  },
  {
   "cell_type": "code",
   "execution_count": 49,
   "metadata": {
    "scrolled": true
   },
   "outputs": [
    {
     "name": "stdout",
     "output_type": "stream",
     "text": [
      "Seed is: 40\n",
      "X_train: (22454, 203) y_train: (22454,) \n",
      "X_test: (5614, 203) y_test: (5614,)\n",
      "review_train: (22454, 1) y_train: (22454,) \n",
      "review_test: (5614, 1) y_test: (5614,)\n",
      "1-gram features: (22454, 49281) (5614, 49281)\n",
      "2-gram features intially generated: (22454, 730743) (5614, 730743)\n",
      "2-gram features: (22454, 30000) (5614, 30000)\n",
      "Exclamation features: (22454, 4965) (5614, 4965)\n",
      "Explicit Mentions features: (22454, 9) (5614, 9)\n",
      "Final training data: (22454, 84458)\n",
      "Final validation data: (5614, 84458)\n",
      "Seed is: 41\n",
      "X_train: (22454, 203) y_train: (22454,) \n",
      "X_test: (5614, 203) y_test: (5614,)\n",
      "review_train: (22454, 1) y_train: (22454,) \n",
      "review_test: (5614, 1) y_test: (5614,)\n",
      "1-gram features: (22454, 48913) (5614, 48913)\n",
      "2-gram features intially generated: (22454, 724899) (5614, 724899)\n",
      "2-gram features: (22454, 30000) (5614, 30000)\n",
      "Exclamation features: (22454, 4874) (5614, 4874)\n",
      "Explicit Mentions features: (22454, 9) (5614, 9)\n",
      "Final training data: (22454, 83999)\n",
      "Final validation data: (5614, 83999)\n",
      "Seed is: 42\n",
      "X_train: (22454, 203) y_train: (22454,) \n",
      "X_test: (5614, 203) y_test: (5614,)\n",
      "review_train: (22454, 1) y_train: (22454,) \n",
      "review_test: (5614, 1) y_test: (5614,)\n",
      "1-gram features: (22454, 49185) (5614, 49185)\n",
      "2-gram features intially generated: (22454, 726390) (5614, 726390)\n",
      "2-gram features: (22454, 30000) (5614, 30000)\n",
      "Exclamation features: (22454, 4946) (5614, 4946)\n",
      "Explicit Mentions features: (22454, 9) (5614, 9)\n",
      "Final training data: (22454, 84343)\n",
      "Final validation data: (5614, 84343)\n",
      "Seed is: 43\n",
      "X_train: (22454, 203) y_train: (22454,) \n",
      "X_test: (5614, 203) y_test: (5614,)\n",
      "review_train: (22454, 1) y_train: (22454,) \n",
      "review_test: (5614, 1) y_test: (5614,)\n",
      "1-gram features: (22454, 48908) (5614, 48908)\n",
      "2-gram features intially generated: (22454, 727171) (5614, 727171)\n",
      "2-gram features: (22454, 30000) (5614, 30000)\n",
      "Exclamation features: (22454, 4935) (5614, 4935)\n",
      "Explicit Mentions features: (22454, 9) (5614, 9)\n",
      "Final training data: (22454, 84055)\n",
      "Final validation data: (5614, 84055)\n",
      "Seed is: 44\n",
      "X_train: (22454, 203) y_train: (22454,) \n",
      "X_test: (5614, 203) y_test: (5614,)\n",
      "review_train: (22454, 1) y_train: (22454,) \n",
      "review_test: (5614, 1) y_test: (5614,)\n",
      "1-gram features: (22454, 49145) (5614, 49145)\n",
      "2-gram features intially generated: (22454, 729321) (5614, 729321)\n",
      "2-gram features: (22454, 30000) (5614, 30000)\n",
      "Exclamation features: (22454, 4960) (5614, 4960)\n",
      "Explicit Mentions features: (22454, 9) (5614, 9)\n",
      "Final training data: (22454, 84317)\n",
      "Final validation data: (5614, 84317)\n"
     ]
    }
   ],
   "source": [
    "# Build model\n",
    "\n",
    "for seed in np.arange(40,45):\n",
    "    X_train, X_test, y_train, y_test = create_random_split(d2v200_train, \n",
    "                                                       review_meta_train, \n",
    "                                                       review_text_train, seed)\n",
    "    \n",
    "    svmlin = svm.LinearSVC(C = svm_reg[bestsvm], \n",
    "                           max_iter=2000, \n",
    "                           random_state= seed)\n",
    "    svmlin.fit(X_train, y_train)\n",
    "    \n",
    "    svm_train.append(svmlin.score(X_train, y_train))\n",
    "    svm_test.append(svmlin.score(X_test, y_test))"
   ]
  },
  {
   "cell_type": "code",
   "execution_count": 50,
   "metadata": {},
   "outputs": [
    {
     "name": "stdout",
     "output_type": "stream",
     "text": [
      "Validation accuracy of 5 more models: [0.8829711435696473, 0.8797648735304595, 0.8770929818311365, 0.8794086213038832, 0.8795867474171714]\n",
      "Mean accuracy: 0.8797648735304596\n",
      "Std accuracy: 0.0018749835934365156\n"
     ]
    }
   ],
   "source": [
    "print('Validation accuracy of 5 more models:', lreg_test)\n",
    "print('Mean accuracy:', np.mean(lreg_test))\n",
    "print('Std accuracy:', np.std(lreg_test))"
   ]
  },
  {
   "cell_type": "markdown",
   "metadata": {},
   "source": [
    "# Results (No need to run this part)"
   ]
  },
  {
   "cell_type": "code",
   "execution_count": 51,
   "metadata": {},
   "outputs": [
    {
     "name": "stdout",
     "output_type": "stream",
     "text": [
      "1-gram features: (28068, 54325) (7018, 54325)\n",
      "2-gram features intially generated: (28068, 853711) (7018, 853711)\n",
      "2-gram features: (28068, 30000) (7018, 30000)\n",
      "Exclamation features: (28068, 5607) (7018, 5607)\n",
      "Explicit Mentions features: (28068, 9) (7018, 9)\n",
      "Final training data: (28068, 90144)\n",
      "Final testing data: (7018, 90144)\n"
     ]
    }
   ],
   "source": [
    "# Retrieve labels\n",
    "y_train = review_meta_train['rating'].to_numpy()\n",
    "\n",
    "X_train = hstack((d2v200_train,\n",
    "                  review_meta_train[['vote_cool', 'vote_funny', 'vote_useful']]))\n",
    "\n",
    "X_test = hstack((d2v200_test,\n",
    "                 review_meta_test[['vote_cool', 'vote_funny', 'vote_useful']]))\n",
    "\n",
    "countvect = CountVectorizer(lowercase = False)\n",
    "countvect_2gram = CountVectorizer(lowercase = False, ngram_range=(2,2))\n",
    "countvect_explicit = CountVectorizer(lowercase = False, ngram_range=(1,1), \n",
    "                                     binary=False,\n",
    "                                     token_pattern='\\s\\d\\sstar')\n",
    "countvect_exclaim = CountVectorizer(lowercase = False, token_pattern='\\w+\\!')\n",
    "\n",
    "unigram_train = countvect.fit_transform(review_text_train['review'])\n",
    "unigram_test = countvect.transform(review_text_test['review'])\n",
    "print('1-gram features:', unigram_train.shape, unigram_test.shape)\n",
    "\n",
    "bigram_train = countvect_2gram.fit_transform(review_text_train['review'])\n",
    "bigram_test = countvect_2gram.transform(review_text_test['review'])\n",
    "print('2-gram features intially generated:', bigram_train.shape, bigram_test.shape)\n",
    "\n",
    "selection = SelectKBest(k=30000)\n",
    "bigram_train = selection.fit_transform(bigram_train, y_train)\n",
    "bigram_test = selection.transform(bigram_test)\n",
    "\n",
    "print('2-gram features:', bigram_train.shape, bigram_test.shape)\n",
    "\n",
    "exclaim_train = countvect_exclaim.fit_transform(review_text_train['review'])\n",
    "exclaim_test = countvect_exclaim.transform(review_text_test['review'])\n",
    "print('Exclamation features:', exclaim_train.shape, exclaim_test.shape)\n",
    "\n",
    "explicit_train = countvect_explicit.fit_transform(review_text_train['review'])\n",
    "explicit_test = countvect_explicit.transform(review_text_test['review'])\n",
    "print('Explicit Mentions features:', explicit_train.shape, explicit_test.shape)\n",
    "\n",
    "# Merge all features\n",
    "\n",
    "X_train = hstack((X_train, unigram_train, bigram_train, exclaim_train, explicit_train))\n",
    "X_test = hstack((X_test, unigram_test, bigram_test, exclaim_test, explicit_test))\n",
    "\n",
    "print('Final training data:', X_train.shape)\n",
    "print('Final testing data:', X_test.shape)"
   ]
  },
  {
   "cell_type": "code",
   "execution_count": 52,
   "metadata": {},
   "outputs": [],
   "source": [
    "baseline_0r = DummyClassifier(strategy='most_frequent')\n",
    "baseline_0r.fit(X_train, y_train)\n",
    "zerorpreds = baseline_0r.predict(X_test)"
   ]
  },
  {
   "cell_type": "code",
   "execution_count": 53,
   "metadata": {},
   "outputs": [],
   "source": [
    "dt = DecisionTreeClassifier(max_depth=dt_depth[bestdt], criterion='gini', splitter='best', random_state = global_seed)\n",
    "dt.fit(X_train, y_train)\n",
    "dtpreds = dt.predict(X_test)"
   ]
  },
  {
   "cell_type": "code",
   "execution_count": 54,
   "metadata": {},
   "outputs": [
    {
     "name": "stderr",
     "output_type": "stream",
     "text": [
      "C:\\Users\\c33041440\\Anaconda3\\lib\\site-packages\\sklearn\\linear_model\\logistic.py:432: FutureWarning: Default solver will be changed to 'lbfgs' in 0.22. Specify a solver to silence this warning.\n",
      "  FutureWarning)\n",
      "C:\\Users\\c33041440\\Anaconda3\\lib\\site-packages\\sklearn\\linear_model\\logistic.py:469: FutureWarning: Default multi_class will be changed to 'auto' in 0.22. Specify the multi_class option to silence this warning.\n",
      "  \"this warning.\", FutureWarning)\n"
     ]
    }
   ],
   "source": [
    "lreg = LogisticRegression(penalty = 'l2', C = lreg_reg[bestlreg], random_state= global_seed)\n",
    "lreg.fit(X_train, y_train)\n",
    "    \n",
    "lregpreds = lreg.predict(X_test)"
   ]
  },
  {
   "cell_type": "code",
   "execution_count": 55,
   "metadata": {},
   "outputs": [],
   "source": [
    "svmlin = svm.LinearSVC(C = svm_reg[bestsvm], max_iter=2000, random_state= global_seed)\n",
    "svmlin.fit(X_train, y_train)\n",
    "    \n",
    "svmpreds = svmlin.predict(X_test)"
   ]
  },
  {
   "cell_type": "code",
   "execution_count": 62,
   "metadata": {},
   "outputs": [
    {
     "name": "stdout",
     "output_type": "stream",
     "text": [
      "(7018, 2)\n",
      "(7018, 2)\n",
      "(7018, 2)\n",
      "(7018, 2)\n"
     ]
    }
   ],
   "source": [
    "# for file, pred in zip(['submit_0r.csv', 'submit_dt.csv', 'submit_logreg.csv', 'submit_svm.csv'], [zerorpreds, dtpreds, lregpreds,svmpreds]):\n",
    "#     results = pd.DataFrame({'Instance_id': np.arange(1,len(zerorpreds)+1),\n",
    "#                             'rating': pred})\n",
    "#     results.to_csv(file, index=False)\n",
    "#     print(results.shape)"
   ]
  },
  {
   "cell_type": "code",
   "execution_count": null,
   "metadata": {},
   "outputs": [],
   "source": []
  }
 ],
 "metadata": {
  "kernelspec": {
   "display_name": "Python 3",
   "language": "python",
   "name": "python3"
  },
  "language_info": {
   "codemirror_mode": {
    "name": "ipython",
    "version": 3
   },
   "file_extension": ".py",
   "mimetype": "text/x-python",
   "name": "python",
   "nbconvert_exporter": "python",
   "pygments_lexer": "ipython3",
   "version": "3.7.3"
  },
  "toc": {
   "base_numbering": 1,
   "nav_menu": {
    "height": "441.995px",
    "width": "521.995px"
   },
   "number_sections": true,
   "sideBar": true,
   "skip_h1_title": false,
   "title_cell": "Table of Contents",
   "title_sidebar": "Contents",
   "toc_cell": false,
   "toc_position": {
    "height": "508.462px",
    "left": "877.281px",
    "top": "110.889px",
    "width": "269.087px"
   },
   "toc_section_display": true,
   "toc_window_display": true
  },
  "varInspector": {
   "cols": {
    "lenName": 16,
    "lenType": 16,
    "lenVar": 40
   },
   "kernels_config": {
    "python": {
     "delete_cmd_postfix": "",
     "delete_cmd_prefix": "del ",
     "library": "var_list.py",
     "varRefreshCmd": "print(var_dic_list())"
    },
    "r": {
     "delete_cmd_postfix": ") ",
     "delete_cmd_prefix": "rm(",
     "library": "var_list.r",
     "varRefreshCmd": "cat(var_dic_list()) "
    }
   },
   "oldHeight": 452.572538,
   "position": {
    "height": "40px",
    "left": "704.245px",
    "right": "20px",
    "top": "120px",
    "width": "468.822px"
   },
   "types_to_exclude": [
    "module",
    "function",
    "builtin_function_or_method",
    "instance",
    "_Feature"
   ],
   "varInspector_section_display": "none",
   "window_display": true
  }
 },
 "nbformat": 4,
 "nbformat_minor": 2
}
